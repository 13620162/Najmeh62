{
 "cells": [
  {
   "cell_type": "code",
   "execution_count": 1,
   "id": "6a960ea0",
   "metadata": {},
   "outputs": [],
   "source": [
    "import pandas as pd \n",
    "import numpy as np\n",
    "import matplotlib.pyplot as plt\n",
    "import matplotlib as pyplot"
   ]
  },
  {
   "cell_type": "code",
   "execution_count": 2,
   "id": "9612217b",
   "metadata": {},
   "outputs": [],
   "source": [
    "from IPython.display import HTML\n",
    "\n",
    "#HTML('<iframe width=\"1263\" height=\"480\" src=\"https://www.youtube.com/watch?v=DcfND_C0V3o\" title=\"What are Pulsars?\" frameborder=\"0\" allow=\"accelerometer; autoplay; clipboard-write; encrypted-media; gyroscope; picture-in-picture\" allowfullscreen></iframe>')"
   ]
  },
  {
   "cell_type": "code",
   "execution_count": 3,
   "id": "46e7ba89",
   "metadata": {},
   "outputs": [
    {
     "data": {
      "text/html": [
       "<div>\n",
       "<style scoped>\n",
       "    .dataframe tbody tr th:only-of-type {\n",
       "        vertical-align: middle;\n",
       "    }\n",
       "\n",
       "    .dataframe tbody tr th {\n",
       "        vertical-align: top;\n",
       "    }\n",
       "\n",
       "    .dataframe thead th {\n",
       "        text-align: right;\n",
       "    }\n",
       "</style>\n",
       "<table border=\"1\" class=\"dataframe\">\n",
       "  <thead>\n",
       "    <tr style=\"text-align: right;\">\n",
       "      <th></th>\n",
       "      <th>Hits</th>\n",
       "      <th>HmRun</th>\n",
       "      <th>Runs</th>\n",
       "      <th>RBI</th>\n",
       "      <th>Walks</th>\n",
       "      <th>Years</th>\n",
       "      <th>CAtBat</th>\n",
       "      <th>CHits</th>\n",
       "      <th>CHmRun</th>\n",
       "      <th>CRuns</th>\n",
       "      <th>CRBI</th>\n",
       "      <th>CWalks</th>\n",
       "      <th>League</th>\n",
       "      <th>Division</th>\n",
       "      <th>PutOuts</th>\n",
       "      <th>Assists</th>\n",
       "      <th>Errors</th>\n",
       "      <th>Salary</th>\n",
       "    </tr>\n",
       "  </thead>\n",
       "  <tbody>\n",
       "    <tr>\n",
       "      <th>0</th>\n",
       "      <td>293</td>\n",
       "      <td>66</td>\n",
       "      <td>1</td>\n",
       "      <td>30</td>\n",
       "      <td>29</td>\n",
       "      <td>14</td>\n",
       "      <td>1</td>\n",
       "      <td>293</td>\n",
       "      <td>66</td>\n",
       "      <td>1</td>\n",
       "      <td>30</td>\n",
       "      <td>29</td>\n",
       "      <td>14</td>\n",
       "      <td>A</td>\n",
       "      <td>E</td>\n",
       "      <td>446</td>\n",
       "      <td>33</td>\n",
       "      <td>20</td>\n",
       "    </tr>\n",
       "    <tr>\n",
       "      <th>1</th>\n",
       "      <td>315</td>\n",
       "      <td>81</td>\n",
       "      <td>7</td>\n",
       "      <td>24</td>\n",
       "      <td>38</td>\n",
       "      <td>39</td>\n",
       "      <td>14</td>\n",
       "      <td>3449</td>\n",
       "      <td>835</td>\n",
       "      <td>69</td>\n",
       "      <td>321</td>\n",
       "      <td>414</td>\n",
       "      <td>375</td>\n",
       "      <td>N</td>\n",
       "      <td>W</td>\n",
       "      <td>632</td>\n",
       "      <td>43</td>\n",
       "      <td>10</td>\n",
       "    </tr>\n",
       "    <tr>\n",
       "      <th>2</th>\n",
       "      <td>479</td>\n",
       "      <td>130</td>\n",
       "      <td>18</td>\n",
       "      <td>66</td>\n",
       "      <td>72</td>\n",
       "      <td>76</td>\n",
       "      <td>3</td>\n",
       "      <td>1624</td>\n",
       "      <td>457</td>\n",
       "      <td>63</td>\n",
       "      <td>224</td>\n",
       "      <td>266</td>\n",
       "      <td>263</td>\n",
       "      <td>A</td>\n",
       "      <td>W</td>\n",
       "      <td>880</td>\n",
       "      <td>82</td>\n",
       "      <td>14</td>\n",
       "    </tr>\n",
       "    <tr>\n",
       "      <th>3</th>\n",
       "      <td>496</td>\n",
       "      <td>141</td>\n",
       "      <td>20</td>\n",
       "      <td>65</td>\n",
       "      <td>78</td>\n",
       "      <td>37</td>\n",
       "      <td>11</td>\n",
       "      <td>5628</td>\n",
       "      <td>1575</td>\n",
       "      <td>225</td>\n",
       "      <td>828</td>\n",
       "      <td>838</td>\n",
       "      <td>354</td>\n",
       "      <td>N</td>\n",
       "      <td>E</td>\n",
       "      <td>200</td>\n",
       "      <td>11</td>\n",
       "      <td>3</td>\n",
       "    </tr>\n",
       "    <tr>\n",
       "      <th>4</th>\n",
       "      <td>321</td>\n",
       "      <td>87</td>\n",
       "      <td>10</td>\n",
       "      <td>39</td>\n",
       "      <td>42</td>\n",
       "      <td>30</td>\n",
       "      <td>2</td>\n",
       "      <td>396</td>\n",
       "      <td>101</td>\n",
       "      <td>12</td>\n",
       "      <td>48</td>\n",
       "      <td>46</td>\n",
       "      <td>33</td>\n",
       "      <td>N</td>\n",
       "      <td>E</td>\n",
       "      <td>805</td>\n",
       "      <td>40</td>\n",
       "      <td>4</td>\n",
       "    </tr>\n",
       "  </tbody>\n",
       "</table>\n",
       "</div>"
      ],
      "text/plain": [
       "   Hits  HmRun  Runs  RBI  Walks  Years  CAtBat  CHits  CHmRun  CRuns  CRBI  \\\n",
       "0   293     66     1   30     29     14       1    293      66      1    30   \n",
       "1   315     81     7   24     38     39      14   3449     835     69   321   \n",
       "2   479    130    18   66     72     76       3   1624     457     63   224   \n",
       "3   496    141    20   65     78     37      11   5628    1575    225   828   \n",
       "4   321     87    10   39     42     30       2    396     101     12    48   \n",
       "\n",
       "   CWalks  League Division PutOuts  Assists  Errors  Salary  \n",
       "0      29      14        A       E      446      33      20  \n",
       "1     414     375        N       W      632      43      10  \n",
       "2     266     263        A       W      880      82      14  \n",
       "3     838     354        N       E      200      11       3  \n",
       "4      46      33        N       E      805      40       4  "
      ]
     },
     "execution_count": 3,
     "metadata": {},
     "output_type": "execute_result"
    }
   ],
   "source": [
    "df = pd.read_csv(\"Hitter.csv\")\n",
    "df.head()"
   ]
  },
  {
   "cell_type": "markdown",
   "id": "638b4a89",
   "metadata": {},
   "source": [
    "Data Understanding¶"
   ]
  },
  {
   "cell_type": "code",
   "execution_count": 4,
   "id": "0048965c",
   "metadata": {},
   "outputs": [
    {
     "data": {
      "text/plain": [
       "(322, 18)"
      ]
     },
     "execution_count": 4,
     "metadata": {},
     "output_type": "execute_result"
    }
   ],
   "source": [
    "df.shape"
   ]
  },
  {
   "cell_type": "code",
   "execution_count": 5,
   "id": "a1a75d6b",
   "metadata": {
    "scrolled": true
   },
   "outputs": [
    {
     "name": "stdout",
     "output_type": "stream",
     "text": [
      "<class 'pandas.core.frame.DataFrame'>\n",
      "RangeIndex: 322 entries, 0 to 321\n",
      "Data columns (total 18 columns):\n",
      " #   Column    Non-Null Count  Dtype \n",
      "---  ------    --------------  ----- \n",
      " 0   Hits      322 non-null    int64 \n",
      " 1   HmRun     322 non-null    int64 \n",
      " 2   Runs      322 non-null    int64 \n",
      " 3   RBI       322 non-null    int64 \n",
      " 4   Walks     322 non-null    int64 \n",
      " 5   Years     322 non-null    int64 \n",
      " 6   CAtBat    322 non-null    int64 \n",
      " 7   CHits     322 non-null    int64 \n",
      " 8   CHmRun    322 non-null    int64 \n",
      " 9   CRuns     322 non-null    int64 \n",
      " 10  CRBI      322 non-null    int64 \n",
      " 11  CWalks    322 non-null    int64 \n",
      " 12  League    322 non-null    int64 \n",
      " 13  Division  322 non-null    object\n",
      " 14  PutOuts   322 non-null    object\n",
      " 15  Assists   322 non-null    int64 \n",
      " 16  Errors    322 non-null    int64 \n",
      " 17  Salary    322 non-null    int64 \n",
      "dtypes: int64(16), object(2)\n",
      "memory usage: 45.4+ KB\n"
     ]
    }
   ],
   "source": [
    "df.info()"
   ]
  },
  {
   "cell_type": "code",
   "execution_count": 6,
   "id": "47df9777",
   "metadata": {},
   "outputs": [
    {
     "name": "stdout",
     "output_type": "stream",
     "text": [
      "Num of Object Variables: 2\n",
      "Num of Integer Variables: 16\n",
      "Num of Float Variables: 0\n"
     ]
    }
   ],
   "source": [
    "print(\"Num of Object Variables:\", df.select_dtypes(object).shape[1])\n",
    "print(\"Num of Integer Variables:\", df.select_dtypes(\"integer\").shape[1])\n",
    "print(\"Num of Float Variables:\", df.select_dtypes(\"float\").shape[1])"
   ]
  },
  {
   "cell_type": "code",
   "execution_count": 7,
   "id": "3b2d18e8",
   "metadata": {},
   "outputs": [
    {
     "data": {
      "text/plain": [
       "22     13\n",
       "30     12\n",
       "21     10\n",
       "15      9\n",
       "18      8\n",
       "       ..\n",
       "97      1\n",
       "75      1\n",
       "48      1\n",
       "8       1\n",
       "105     1\n",
       "Name: Years, Length: 89, dtype: int64"
      ]
     },
     "execution_count": 7,
     "metadata": {},
     "output_type": "execute_result"
    }
   ],
   "source": [
    "df.Years.value_counts()"
   ]
  },
  {
   "cell_type": "code",
   "execution_count": 8,
   "id": "6b67578f",
   "metadata": {},
   "outputs": [],
   "source": [
    "def num_plot(df, cat_length = 10, remove = [\"Id\"], hist_bins = 10, figsize = (17,4)):\n",
    "    \n",
    "    num_col = [col for col in df.columns if df[col].dtypes != \"O\" \n",
    "                and len(df[col].unique()) >= cat_length]\n",
    "    \n",
    "    if len(remove) > 0:\n",
    "        num_col = [x for x in num_col if (x not in remove)]\n",
    "           \n",
    "    for i in num_col:\n",
    "        fig, axes = plt.subplots(1, 3, figsize = figsize)\n",
    "        df.hist(str(i), bins = hist_bins, ax=axes[0])\n",
    "        df.boxplot(str(i),  ax=axes[1], vert=False);\n",
    "        try: \n",
    "            sns.kdeplot(np.array(df[str(i)]))\n",
    "        except: ValueError\n",
    "        \n",
    "        axes[1].set_yticklabels([])\n",
    "        axes[1].set_yticks([])\n",
    "        axes[0].set_title(i + \" | Histogram\")\n",
    "        axes[1].set_title(i + \" | Boxplot\")\n",
    "        axes[2].set_title(i + \" | Density\")\n",
    "        #plt.show()\n",
    "        \n",
    "        \n",
    "#num_plot(df, cat_length = 16, remove = [\"Id\"], hist_bins = 10, figsize = (20,4))"
   ]
  },
  {
   "cell_type": "code",
   "execution_count": 9,
   "id": "19352727",
   "metadata": {},
   "outputs": [
    {
     "data": {
      "text/plain": [
       "array(['A', 'N'], dtype=object)"
      ]
     },
     "execution_count": 9,
     "metadata": {},
     "output_type": "execute_result"
    }
   ],
   "source": [
    "df.Division.unique()"
   ]
  },
  {
   "cell_type": "code",
   "execution_count": 10,
   "id": "7184a890",
   "metadata": {},
   "outputs": [
    {
     "data": {
      "text/plain": [
       "array(['E', 'W'], dtype=object)"
      ]
     },
     "execution_count": 10,
     "metadata": {},
     "output_type": "execute_result"
    }
   ],
   "source": [
    "df.PutOuts.unique()   \n"
   ]
  },
  {
   "cell_type": "code",
   "execution_count": 11,
   "id": "a78e0632",
   "metadata": {},
   "outputs": [],
   "source": [
    "#df.groupby(\"Division\").agg({\"Salary\": \"mean\"})"
   ]
  },
  {
   "cell_type": "code",
   "execution_count": 12,
   "id": "5cf1ee0b",
   "metadata": {},
   "outputs": [],
   "source": [
    "#df.groupby(\"PutOuts\").agg({\"Salary\": \"mean\"})"
   ]
  },
  {
   "cell_type": "code",
   "execution_count": 13,
   "id": "147dc62d",
   "metadata": {},
   "outputs": [],
   "source": [
    "#df.groupby(\"Division\").agg({\"CHits\": \"max\"})"
   ]
  },
  {
   "cell_type": "code",
   "execution_count": 14,
   "id": "90329de5",
   "metadata": {},
   "outputs": [],
   "source": [
    "#df['Year_lab'] = pd.cut(x=df['Years'], bins=[0, 3, 6, 10, 15, 19, 24])\n",
    "#df.groupby(['PutOuts','Division', 'Year_lab']).agg({'Salary':'mean'})"
   ]
  },
  {
   "cell_type": "code",
   "execution_count": 15,
   "id": "5e041754",
   "metadata": {},
   "outputs": [
    {
     "data": {
      "text/html": [
       "<div>\n",
       "<style scoped>\n",
       "    .dataframe tbody tr th:only-of-type {\n",
       "        vertical-align: middle;\n",
       "    }\n",
       "\n",
       "    .dataframe tbody tr th {\n",
       "        vertical-align: top;\n",
       "    }\n",
       "\n",
       "    .dataframe thead th {\n",
       "        text-align: right;\n",
       "    }\n",
       "</style>\n",
       "<table border=\"1\" class=\"dataframe\">\n",
       "  <thead>\n",
       "    <tr style=\"text-align: right;\">\n",
       "      <th></th>\n",
       "      <th>Hits</th>\n",
       "      <th>HmRun</th>\n",
       "      <th>Runs</th>\n",
       "      <th>RBI</th>\n",
       "      <th>Walks</th>\n",
       "      <th>Years</th>\n",
       "      <th>CAtBat</th>\n",
       "      <th>CHits</th>\n",
       "      <th>CHmRun</th>\n",
       "      <th>CRuns</th>\n",
       "      <th>CRBI</th>\n",
       "      <th>CWalks</th>\n",
       "      <th>League</th>\n",
       "      <th>Assists</th>\n",
       "      <th>Errors</th>\n",
       "      <th>Salary</th>\n",
       "      <th>Division_A</th>\n",
       "      <th>Division_N</th>\n",
       "      <th>PutOuts_E</th>\n",
       "      <th>PutOuts_W</th>\n",
       "    </tr>\n",
       "  </thead>\n",
       "  <tbody>\n",
       "    <tr>\n",
       "      <th>0</th>\n",
       "      <td>293</td>\n",
       "      <td>66</td>\n",
       "      <td>1</td>\n",
       "      <td>30</td>\n",
       "      <td>29</td>\n",
       "      <td>14</td>\n",
       "      <td>1</td>\n",
       "      <td>293</td>\n",
       "      <td>66</td>\n",
       "      <td>1</td>\n",
       "      <td>30</td>\n",
       "      <td>29</td>\n",
       "      <td>14</td>\n",
       "      <td>446</td>\n",
       "      <td>33</td>\n",
       "      <td>20</td>\n",
       "      <td>1</td>\n",
       "      <td>0</td>\n",
       "      <td>1</td>\n",
       "      <td>0</td>\n",
       "    </tr>\n",
       "    <tr>\n",
       "      <th>1</th>\n",
       "      <td>315</td>\n",
       "      <td>81</td>\n",
       "      <td>7</td>\n",
       "      <td>24</td>\n",
       "      <td>38</td>\n",
       "      <td>39</td>\n",
       "      <td>14</td>\n",
       "      <td>3449</td>\n",
       "      <td>835</td>\n",
       "      <td>69</td>\n",
       "      <td>321</td>\n",
       "      <td>414</td>\n",
       "      <td>375</td>\n",
       "      <td>632</td>\n",
       "      <td>43</td>\n",
       "      <td>10</td>\n",
       "      <td>0</td>\n",
       "      <td>1</td>\n",
       "      <td>0</td>\n",
       "      <td>1</td>\n",
       "    </tr>\n",
       "    <tr>\n",
       "      <th>2</th>\n",
       "      <td>479</td>\n",
       "      <td>130</td>\n",
       "      <td>18</td>\n",
       "      <td>66</td>\n",
       "      <td>72</td>\n",
       "      <td>76</td>\n",
       "      <td>3</td>\n",
       "      <td>1624</td>\n",
       "      <td>457</td>\n",
       "      <td>63</td>\n",
       "      <td>224</td>\n",
       "      <td>266</td>\n",
       "      <td>263</td>\n",
       "      <td>880</td>\n",
       "      <td>82</td>\n",
       "      <td>14</td>\n",
       "      <td>1</td>\n",
       "      <td>0</td>\n",
       "      <td>0</td>\n",
       "      <td>1</td>\n",
       "    </tr>\n",
       "    <tr>\n",
       "      <th>3</th>\n",
       "      <td>496</td>\n",
       "      <td>141</td>\n",
       "      <td>20</td>\n",
       "      <td>65</td>\n",
       "      <td>78</td>\n",
       "      <td>37</td>\n",
       "      <td>11</td>\n",
       "      <td>5628</td>\n",
       "      <td>1575</td>\n",
       "      <td>225</td>\n",
       "      <td>828</td>\n",
       "      <td>838</td>\n",
       "      <td>354</td>\n",
       "      <td>200</td>\n",
       "      <td>11</td>\n",
       "      <td>3</td>\n",
       "      <td>0</td>\n",
       "      <td>1</td>\n",
       "      <td>1</td>\n",
       "      <td>0</td>\n",
       "    </tr>\n",
       "    <tr>\n",
       "      <th>4</th>\n",
       "      <td>321</td>\n",
       "      <td>87</td>\n",
       "      <td>10</td>\n",
       "      <td>39</td>\n",
       "      <td>42</td>\n",
       "      <td>30</td>\n",
       "      <td>2</td>\n",
       "      <td>396</td>\n",
       "      <td>101</td>\n",
       "      <td>12</td>\n",
       "      <td>48</td>\n",
       "      <td>46</td>\n",
       "      <td>33</td>\n",
       "      <td>805</td>\n",
       "      <td>40</td>\n",
       "      <td>4</td>\n",
       "      <td>0</td>\n",
       "      <td>1</td>\n",
       "      <td>1</td>\n",
       "      <td>0</td>\n",
       "    </tr>\n",
       "  </tbody>\n",
       "</table>\n",
       "</div>"
      ],
      "text/plain": [
       "   Hits  HmRun  Runs  RBI  Walks  Years  CAtBat  CHits  CHmRun  CRuns  CRBI  \\\n",
       "0   293     66     1   30     29     14       1    293      66      1    30   \n",
       "1   315     81     7   24     38     39      14   3449     835     69   321   \n",
       "2   479    130    18   66     72     76       3   1624     457     63   224   \n",
       "3   496    141    20   65     78     37      11   5628    1575    225   828   \n",
       "4   321     87    10   39     42     30       2    396     101     12    48   \n",
       "\n",
       "   CWalks  League  Assists  Errors  Salary  Division_A  Division_N  PutOuts_E  \\\n",
       "0      29      14      446      33      20           1           0          1   \n",
       "1     414     375      632      43      10           0           1          0   \n",
       "2     266     263      880      82      14           1           0          0   \n",
       "3     838     354      200      11       3           0           1          1   \n",
       "4      46      33      805      40       4           0           1          1   \n",
       "\n",
       "   PutOuts_W  \n",
       "0          0  \n",
       "1          1  \n",
       "2          1  \n",
       "3          0  \n",
       "4          0  "
      ]
     },
     "execution_count": 15,
     "metadata": {},
     "output_type": "execute_result"
    }
   ],
   "source": [
    "df = pd.get_dummies(df, prefix=['Division','PutOuts'])\n",
    "df.head()"
   ]
  },
  {
   "cell_type": "code",
   "execution_count": 16,
   "id": "f16460d4",
   "metadata": {},
   "outputs": [],
   "source": [
    "#df.describe().T"
   ]
  },
  {
   "cell_type": "code",
   "execution_count": 17,
   "id": "852a691d",
   "metadata": {},
   "outputs": [],
   "source": [
    "#df.isnull().sum()"
   ]
  },
  {
   "cell_type": "markdown",
   "id": "a40d789c",
   "metadata": {},
   "source": [
    "## Scaling"
   ]
  },
  {
   "cell_type": "code",
   "execution_count": 18,
   "id": "96b4676f",
   "metadata": {},
   "outputs": [],
   "source": [
    "#df.hist(edgecolor='black', linewidth=1.2, figsize=(15, 15))"
   ]
  },
  {
   "cell_type": "code",
   "execution_count": 19,
   "id": "de15aef2",
   "metadata": {},
   "outputs": [
    {
     "data": {
      "text/plain": [
       "dtype('uint8')"
      ]
     },
     "execution_count": 19,
     "metadata": {},
     "output_type": "execute_result"
    }
   ],
   "source": [
    "df[\"Division_A\"].dtype"
   ]
  },
  {
   "cell_type": "code",
   "execution_count": 20,
   "id": "5f4d201e",
   "metadata": {},
   "outputs": [],
   "source": [
    "#df[\"PutOuts\"].dtype"
   ]
  },
  {
   "cell_type": "code",
   "execution_count": 21,
   "id": "ad92f8c5",
   "metadata": {},
   "outputs": [],
   "source": [
    "col_names = list(df.columns)"
   ]
  },
  {
   "cell_type": "code",
   "execution_count": 22,
   "id": "87e87921",
   "metadata": {},
   "outputs": [],
   "source": [
    "from sklearn.preprocessing import MinMaxScaler\n",
    "scaler = MinMaxScaler(feature_range=(0,1))\n",
    "df_mm = scaler.fit_transform(df)\n",
    "df_mm = pd.DataFrame(df_mm, columns = col_names)"
   ]
  },
  {
   "cell_type": "code",
   "execution_count": 23,
   "id": "bfe825cb",
   "metadata": {},
   "outputs": [
    {
     "data": {
      "text/html": [
       "<div>\n",
       "<style scoped>\n",
       "    .dataframe tbody tr th:only-of-type {\n",
       "        vertical-align: middle;\n",
       "    }\n",
       "\n",
       "    .dataframe tbody tr th {\n",
       "        vertical-align: top;\n",
       "    }\n",
       "\n",
       "    .dataframe thead th {\n",
       "        text-align: right;\n",
       "    }\n",
       "</style>\n",
       "<table border=\"1\" class=\"dataframe\">\n",
       "  <thead>\n",
       "    <tr style=\"text-align: right;\">\n",
       "      <th></th>\n",
       "      <th>Hits</th>\n",
       "      <th>HmRun</th>\n",
       "      <th>Runs</th>\n",
       "      <th>RBI</th>\n",
       "      <th>Walks</th>\n",
       "      <th>Years</th>\n",
       "      <th>CAtBat</th>\n",
       "      <th>CHits</th>\n",
       "      <th>CHmRun</th>\n",
       "      <th>CRuns</th>\n",
       "      <th>CRBI</th>\n",
       "      <th>CWalks</th>\n",
       "      <th>League</th>\n",
       "      <th>Assists</th>\n",
       "      <th>Errors</th>\n",
       "      <th>Salary</th>\n",
       "      <th>Division_A</th>\n",
       "      <th>Division_N</th>\n",
       "      <th>PutOuts_E</th>\n",
       "      <th>PutOuts_W</th>\n",
       "    </tr>\n",
       "  </thead>\n",
       "  <tbody>\n",
       "    <tr>\n",
       "      <th>0</th>\n",
       "      <td>0.412817</td>\n",
       "      <td>0.274262</td>\n",
       "      <td>0.025</td>\n",
       "      <td>0.230769</td>\n",
       "      <td>0.239669</td>\n",
       "      <td>0.133333</td>\n",
       "      <td>0.000000</td>\n",
       "      <td>0.019524</td>\n",
       "      <td>0.014581</td>\n",
       "      <td>0.001825</td>\n",
       "      <td>0.013401</td>\n",
       "      <td>0.017480</td>\n",
       "      <td>0.008940</td>\n",
       "      <td>0.323657</td>\n",
       "      <td>0.067073</td>\n",
       "      <td>0.62500</td>\n",
       "      <td>1.0</td>\n",
       "      <td>0.0</td>\n",
       "      <td>1.0</td>\n",
       "      <td>0.0</td>\n",
       "    </tr>\n",
       "    <tr>\n",
       "      <th>1</th>\n",
       "      <td>0.445604</td>\n",
       "      <td>0.337553</td>\n",
       "      <td>0.175</td>\n",
       "      <td>0.184615</td>\n",
       "      <td>0.314050</td>\n",
       "      <td>0.371429</td>\n",
       "      <td>0.565217</td>\n",
       "      <td>0.244406</td>\n",
       "      <td>0.195437</td>\n",
       "      <td>0.125912</td>\n",
       "      <td>0.147874</td>\n",
       "      <td>0.249548</td>\n",
       "      <td>0.239464</td>\n",
       "      <td>0.458636</td>\n",
       "      <td>0.087398</td>\n",
       "      <td>0.31250</td>\n",
       "      <td>0.0</td>\n",
       "      <td>1.0</td>\n",
       "      <td>0.0</td>\n",
       "      <td>1.0</td>\n",
       "    </tr>\n",
       "    <tr>\n",
       "      <th>2</th>\n",
       "      <td>0.690015</td>\n",
       "      <td>0.544304</td>\n",
       "      <td>0.450</td>\n",
       "      <td>0.507692</td>\n",
       "      <td>0.595041</td>\n",
       "      <td>0.723810</td>\n",
       "      <td>0.086957</td>\n",
       "      <td>0.114365</td>\n",
       "      <td>0.106538</td>\n",
       "      <td>0.114964</td>\n",
       "      <td>0.103050</td>\n",
       "      <td>0.160338</td>\n",
       "      <td>0.167944</td>\n",
       "      <td>0.638607</td>\n",
       "      <td>0.166667</td>\n",
       "      <td>0.43750</td>\n",
       "      <td>1.0</td>\n",
       "      <td>0.0</td>\n",
       "      <td>0.0</td>\n",
       "      <td>1.0</td>\n",
       "    </tr>\n",
       "    <tr>\n",
       "      <th>3</th>\n",
       "      <td>0.715350</td>\n",
       "      <td>0.590717</td>\n",
       "      <td>0.500</td>\n",
       "      <td>0.500000</td>\n",
       "      <td>0.644628</td>\n",
       "      <td>0.352381</td>\n",
       "      <td>0.434783</td>\n",
       "      <td>0.399672</td>\n",
       "      <td>0.369473</td>\n",
       "      <td>0.410584</td>\n",
       "      <td>0.382163</td>\n",
       "      <td>0.505124</td>\n",
       "      <td>0.226054</td>\n",
       "      <td>0.145138</td>\n",
       "      <td>0.022358</td>\n",
       "      <td>0.09375</td>\n",
       "      <td>0.0</td>\n",
       "      <td>1.0</td>\n",
       "      <td>1.0</td>\n",
       "      <td>0.0</td>\n",
       "    </tr>\n",
       "    <tr>\n",
       "      <th>4</th>\n",
       "      <td>0.454545</td>\n",
       "      <td>0.362869</td>\n",
       "      <td>0.250</td>\n",
       "      <td>0.300000</td>\n",
       "      <td>0.347107</td>\n",
       "      <td>0.285714</td>\n",
       "      <td>0.043478</td>\n",
       "      <td>0.026863</td>\n",
       "      <td>0.022813</td>\n",
       "      <td>0.021898</td>\n",
       "      <td>0.021719</td>\n",
       "      <td>0.027728</td>\n",
       "      <td>0.021073</td>\n",
       "      <td>0.584180</td>\n",
       "      <td>0.081301</td>\n",
       "      <td>0.12500</td>\n",
       "      <td>0.0</td>\n",
       "      <td>1.0</td>\n",
       "      <td>1.0</td>\n",
       "      <td>0.0</td>\n",
       "    </tr>\n",
       "    <tr>\n",
       "      <th>...</th>\n",
       "      <td>...</td>\n",
       "      <td>...</td>\n",
       "      <td>...</td>\n",
       "      <td>...</td>\n",
       "      <td>...</td>\n",
       "      <td>...</td>\n",
       "      <td>...</td>\n",
       "      <td>...</td>\n",
       "      <td>...</td>\n",
       "      <td>...</td>\n",
       "      <td>...</td>\n",
       "      <td>...</td>\n",
       "      <td>...</td>\n",
       "      <td>...</td>\n",
       "      <td>...</td>\n",
       "      <td>...</td>\n",
       "      <td>...</td>\n",
       "      <td>...</td>\n",
       "      <td>...</td>\n",
       "      <td>...</td>\n",
       "    </tr>\n",
       "    <tr>\n",
       "      <th>317</th>\n",
       "      <td>0.716841</td>\n",
       "      <td>0.531646</td>\n",
       "      <td>0.175</td>\n",
       "      <td>0.500000</td>\n",
       "      <td>0.396694</td>\n",
       "      <td>0.352381</td>\n",
       "      <td>0.173913</td>\n",
       "      <td>0.191250</td>\n",
       "      <td>0.188617</td>\n",
       "      <td>0.058394</td>\n",
       "      <td>0.174677</td>\n",
       "      <td>0.187462</td>\n",
       "      <td>0.088123</td>\n",
       "      <td>0.235849</td>\n",
       "      <td>0.018293</td>\n",
       "      <td>0.09375</td>\n",
       "      <td>0.0</td>\n",
       "      <td>1.0</td>\n",
       "      <td>1.0</td>\n",
       "      <td>0.0</td>\n",
       "    </tr>\n",
       "    <tr>\n",
       "      <th>318</th>\n",
       "      <td>0.709389</td>\n",
       "      <td>0.569620</td>\n",
       "      <td>0.125</td>\n",
       "      <td>0.584615</td>\n",
       "      <td>0.413223</td>\n",
       "      <td>0.895238</td>\n",
       "      <td>0.478261</td>\n",
       "      <td>0.391335</td>\n",
       "      <td>0.354421</td>\n",
       "      <td>0.071168</td>\n",
       "      <td>0.414048</td>\n",
       "      <td>0.271851</td>\n",
       "      <td>0.558748</td>\n",
       "      <td>0.227141</td>\n",
       "      <td>0.774390</td>\n",
       "      <td>0.62500</td>\n",
       "      <td>1.0</td>\n",
       "      <td>0.0</td>\n",
       "      <td>1.0</td>\n",
       "      <td>0.0</td>\n",
       "    </tr>\n",
       "    <tr>\n",
       "      <th>319</th>\n",
       "      <td>0.684054</td>\n",
       "      <td>0.527426</td>\n",
       "      <td>0.075</td>\n",
       "      <td>0.469231</td>\n",
       "      <td>0.355372</td>\n",
       "      <td>0.495238</td>\n",
       "      <td>0.217391</td>\n",
       "      <td>0.119781</td>\n",
       "      <td>0.100894</td>\n",
       "      <td>0.012774</td>\n",
       "      <td>0.099815</td>\n",
       "      <td>0.056058</td>\n",
       "      <td>0.093231</td>\n",
       "      <td>0.026851</td>\n",
       "      <td>0.229675</td>\n",
       "      <td>0.21875</td>\n",
       "      <td>1.0</td>\n",
       "      <td>0.0</td>\n",
       "      <td>0.0</td>\n",
       "      <td>1.0</td>\n",
       "    </tr>\n",
       "    <tr>\n",
       "      <th>320</th>\n",
       "      <td>0.830104</td>\n",
       "      <td>0.603376</td>\n",
       "      <td>0.225</td>\n",
       "      <td>0.653846</td>\n",
       "      <td>0.495868</td>\n",
       "      <td>0.742857</td>\n",
       "      <td>0.304348</td>\n",
       "      <td>0.226521</td>\n",
       "      <td>0.200611</td>\n",
       "      <td>0.177007</td>\n",
       "      <td>0.216728</td>\n",
       "      <td>0.253165</td>\n",
       "      <td>0.212005</td>\n",
       "      <td>0.953556</td>\n",
       "      <td>0.266260</td>\n",
       "      <td>0.37500</td>\n",
       "      <td>1.0</td>\n",
       "      <td>0.0</td>\n",
       "      <td>1.0</td>\n",
       "      <td>0.0</td>\n",
       "    </tr>\n",
       "    <tr>\n",
       "      <th>321</th>\n",
       "      <td>0.916542</td>\n",
       "      <td>0.713080</td>\n",
       "      <td>0.225</td>\n",
       "      <td>0.592308</td>\n",
       "      <td>0.363636</td>\n",
       "      <td>0.295238</td>\n",
       "      <td>0.434783</td>\n",
       "      <td>0.348368</td>\n",
       "      <td>0.341722</td>\n",
       "      <td>0.054745</td>\n",
       "      <td>0.357671</td>\n",
       "      <td>0.215190</td>\n",
       "      <td>0.159004</td>\n",
       "      <td>0.296081</td>\n",
       "      <td>0.008130</td>\n",
       "      <td>0.09375</td>\n",
       "      <td>1.0</td>\n",
       "      <td>0.0</td>\n",
       "      <td>0.0</td>\n",
       "      <td>1.0</td>\n",
       "    </tr>\n",
       "  </tbody>\n",
       "</table>\n",
       "<p>322 rows × 20 columns</p>\n",
       "</div>"
      ],
      "text/plain": [
       "         Hits     HmRun   Runs       RBI     Walks     Years    CAtBat  \\\n",
       "0    0.412817  0.274262  0.025  0.230769  0.239669  0.133333  0.000000   \n",
       "1    0.445604  0.337553  0.175  0.184615  0.314050  0.371429  0.565217   \n",
       "2    0.690015  0.544304  0.450  0.507692  0.595041  0.723810  0.086957   \n",
       "3    0.715350  0.590717  0.500  0.500000  0.644628  0.352381  0.434783   \n",
       "4    0.454545  0.362869  0.250  0.300000  0.347107  0.285714  0.043478   \n",
       "..        ...       ...    ...       ...       ...       ...       ...   \n",
       "317  0.716841  0.531646  0.175  0.500000  0.396694  0.352381  0.173913   \n",
       "318  0.709389  0.569620  0.125  0.584615  0.413223  0.895238  0.478261   \n",
       "319  0.684054  0.527426  0.075  0.469231  0.355372  0.495238  0.217391   \n",
       "320  0.830104  0.603376  0.225  0.653846  0.495868  0.742857  0.304348   \n",
       "321  0.916542  0.713080  0.225  0.592308  0.363636  0.295238  0.434783   \n",
       "\n",
       "        CHits    CHmRun     CRuns      CRBI    CWalks    League   Assists  \\\n",
       "0    0.019524  0.014581  0.001825  0.013401  0.017480  0.008940  0.323657   \n",
       "1    0.244406  0.195437  0.125912  0.147874  0.249548  0.239464  0.458636   \n",
       "2    0.114365  0.106538  0.114964  0.103050  0.160338  0.167944  0.638607   \n",
       "3    0.399672  0.369473  0.410584  0.382163  0.505124  0.226054  0.145138   \n",
       "4    0.026863  0.022813  0.021898  0.021719  0.027728  0.021073  0.584180   \n",
       "..        ...       ...       ...       ...       ...       ...       ...   \n",
       "317  0.191250  0.188617  0.058394  0.174677  0.187462  0.088123  0.235849   \n",
       "318  0.391335  0.354421  0.071168  0.414048  0.271851  0.558748  0.227141   \n",
       "319  0.119781  0.100894  0.012774  0.099815  0.056058  0.093231  0.026851   \n",
       "320  0.226521  0.200611  0.177007  0.216728  0.253165  0.212005  0.953556   \n",
       "321  0.348368  0.341722  0.054745  0.357671  0.215190  0.159004  0.296081   \n",
       "\n",
       "       Errors   Salary  Division_A  Division_N  PutOuts_E  PutOuts_W  \n",
       "0    0.067073  0.62500         1.0         0.0        1.0        0.0  \n",
       "1    0.087398  0.31250         0.0         1.0        0.0        1.0  \n",
       "2    0.166667  0.43750         1.0         0.0        0.0        1.0  \n",
       "3    0.022358  0.09375         0.0         1.0        1.0        0.0  \n",
       "4    0.081301  0.12500         0.0         1.0        1.0        0.0  \n",
       "..        ...      ...         ...         ...        ...        ...  \n",
       "317  0.018293  0.09375         0.0         1.0        1.0        0.0  \n",
       "318  0.774390  0.62500         1.0         0.0        1.0        0.0  \n",
       "319  0.229675  0.21875         1.0         0.0        0.0        1.0  \n",
       "320  0.266260  0.37500         1.0         0.0        1.0        0.0  \n",
       "321  0.008130  0.09375         1.0         0.0        0.0        1.0  \n",
       "\n",
       "[322 rows x 20 columns]"
      ]
     },
     "execution_count": 23,
     "metadata": {},
     "output_type": "execute_result"
    }
   ],
   "source": [
    "df_mm"
   ]
  },
  {
   "cell_type": "code",
   "execution_count": 24,
   "id": "6474cfb3",
   "metadata": {},
   "outputs": [
    {
     "data": {
      "text/plain": [
       "(322, 19)"
      ]
     },
     "execution_count": 24,
     "metadata": {},
     "output_type": "execute_result"
    }
   ],
   "source": [
    "y = df_mm[\"Salary\"]\n",
    "X = df_mm.drop( \"Salary\", axis=1)\n",
    "X.shape"
   ]
  },
  {
   "cell_type": "code",
   "execution_count": 25,
   "id": "b164c6da",
   "metadata": {},
   "outputs": [
    {
     "name": "stdout",
     "output_type": "stream",
     "text": [
      "(322, 19)\n",
      "(322,)\n"
     ]
    }
   ],
   "source": [
    "print(X.shape)\n",
    "print(y.shape)"
   ]
  },
  {
   "cell_type": "code",
   "execution_count": 26,
   "id": "ba8f6896",
   "metadata": {},
   "outputs": [],
   "source": [
    "import matplotlib.pyplot as plt\n",
    "import seaborn as sns "
   ]
  },
  {
   "cell_type": "code",
   "execution_count": 27,
   "id": "7c453cdc",
   "metadata": {},
   "outputs": [
    {
     "data": {
      "text/plain": [
       "'0.11.2'"
      ]
     },
     "execution_count": 27,
     "metadata": {},
     "output_type": "execute_result"
    }
   ],
   "source": [
    "# check the version of  seaborn\n",
    "sns.__version__"
   ]
  },
  {
   "cell_type": "code",
   "execution_count": 28,
   "id": "2a601d9f",
   "metadata": {},
   "outputs": [
    {
     "name": "stderr",
     "output_type": "stream",
     "text": [
      "D:\\D\\mosbatedata\\anaconda\\lib\\site-packages\\seaborn\\distributions.py:2619: FutureWarning: `distplot` is a deprecated function and will be removed in a future version. Please adapt your code to use either `displot` (a figure-level function with similar flexibility) or `histplot` (an axes-level function for histograms).\n",
      "  warnings.warn(msg, FutureWarning)\n"
     ]
    },
    {
     "data": {
      "text/plain": [
       "<AxesSubplot:xlabel='Salary', ylabel='Density'>"
      ]
     },
     "execution_count": 28,
     "metadata": {},
     "output_type": "execute_result"
    },
    {
     "data": {
      "image/png": "[encoded data removed]",
      "text/plain": [
       "<Figure size 432x288 with 1 Axes>"
      ]
     },
     "metadata": {
      "needs_background": "light"
     },
     "output_type": "display_data"
    }
   ],
   "source": [
    "sns.distplot(df_mm.Salary, color=\"green\")"
   ]
  },
  {
   "cell_type": "code",
   "execution_count": 29,
   "id": "220b4d3e",
   "metadata": {},
   "outputs": [
    {
     "data": {
      "text/plain": [
       "<AxesSubplot:xlabel='Salary', ylabel='Count'>"
      ]
     },
     "execution_count": 29,
     "metadata": {},
     "output_type": "execute_result"
    },
    {
     "data": {
      "image/png": "[encoded data removed]",
      "text/plain": [
       "<Figure size 432x288 with 1 Axes>"
      ]
     },
     "metadata": {
      "needs_background": "light"
     },
     "output_type": "display_data"
    }
   ],
   "source": [
    "sns.histplot(df_mm.Salary, color= \"red\", kde=True)"
   ]
  },
  {
   "cell_type": "code",
   "execution_count": 30,
   "id": "8b37d09a",
   "metadata": {},
   "outputs": [],
   "source": [
    "import matplotlib as pyplot"
   ]
  },
  {
   "cell_type": "code",
   "execution_count": 31,
   "id": "294dd329",
   "metadata": {},
   "outputs": [
    {
     "data": {
      "image/png": "[encoded data removed]",
      "text/plain": [
       "<Figure size 1368x504 with 1 Axes>"
      ]
     },
     "metadata": {
      "needs_background": "light"
     },
     "output_type": "display_data"
    }
   ],
   "source": [
    "fig = plt.figure(figsize = (19,7))\n",
    "boxplot = df_mm.boxplot(column = list(df_mm.columns))"
   ]
  },
  {
   "cell_type": "code",
   "execution_count": 32,
   "id": "2f3c15ea",
   "metadata": {},
   "outputs": [],
   "source": [
    "#sns.set()\n",
    "#sns.pairplot(df_mm, size = 2.0)\n",
    "#plt.show()"
   ]
  },
  {
   "cell_type": "code",
   "execution_count": 33,
   "id": "e341ad8f",
   "metadata": {},
   "outputs": [],
   "source": [
    "#plt.hist(df_mm, bins=5)\n",
    "#plt.show()"
   ]
  },
  {
   "cell_type": "code",
   "execution_count": 34,
   "id": "5162fbcd",
   "metadata": {},
   "outputs": [],
   "source": [
    "#df_outlier"
   ]
  },
  {
   "cell_type": "code",
   "execution_count": 35,
   "id": "93b4260c",
   "metadata": {},
   "outputs": [
    {
     "data": {
      "image/png": "[encoded data removed]",
      "text/plain": [
       "<Figure size 792x576 with 2 Axes>"
      ]
     },
     "metadata": {
      "needs_background": "light"
     },
     "output_type": "display_data"
    }
   ],
   "source": [
    "#df_corr\n",
    "df_mm1 = df_mm.drop(columns=\"Salary\")\n",
    "corr_Matrix = df_mm.corr()\n",
    "fig = plt.figure(figsize=(11,8))\n",
    "sns.heatmap(corr_Matrix,annot=True)\n",
    "plt.show()"
   ]
  },
  {
   "cell_type": "markdown",
   "id": "63eb89f2",
   "metadata": {},
   "source": [
    "##  Multivariable regression"
   ]
  },
  {
   "cell_type": "markdown",
   "id": "f7164558",
   "metadata": {},
   "source": [
    "$$Salary   = \\beta_0 + \\beta_1 X + \\epsilon$$ "
   ]
  },
  {
   "cell_type": "code",
   "execution_count": 36,
   "id": "3a06424a",
   "metadata": {},
   "outputs": [
    {
     "data": {
      "text/html": [
       "<div>\n",
       "<style scoped>\n",
       "    .dataframe tbody tr th:only-of-type {\n",
       "        vertical-align: middle;\n",
       "    }\n",
       "\n",
       "    .dataframe tbody tr th {\n",
       "        vertical-align: top;\n",
       "    }\n",
       "\n",
       "    .dataframe thead th {\n",
       "        text-align: right;\n",
       "    }\n",
       "</style>\n",
       "<table border=\"1\" class=\"dataframe\">\n",
       "  <thead>\n",
       "    <tr style=\"text-align: right;\">\n",
       "      <th></th>\n",
       "      <th>Hits</th>\n",
       "      <th>HmRun</th>\n",
       "      <th>Runs</th>\n",
       "      <th>RBI</th>\n",
       "      <th>Walks</th>\n",
       "      <th>Years</th>\n",
       "      <th>CAtBat</th>\n",
       "      <th>CHits</th>\n",
       "      <th>CHmRun</th>\n",
       "      <th>CRuns</th>\n",
       "      <th>CRBI</th>\n",
       "      <th>CWalks</th>\n",
       "      <th>League</th>\n",
       "      <th>Assists</th>\n",
       "      <th>Errors</th>\n",
       "      <th>Division_A</th>\n",
       "      <th>Division_N</th>\n",
       "      <th>PutOuts_E</th>\n",
       "      <th>PutOuts_W</th>\n",
       "    </tr>\n",
       "  </thead>\n",
       "  <tbody>\n",
       "    <tr>\n",
       "      <th>245</th>\n",
       "      <td>0.463487</td>\n",
       "      <td>0.282700</td>\n",
       "      <td>0.325</td>\n",
       "      <td>0.323077</td>\n",
       "      <td>0.239669</td>\n",
       "      <td>0.428571</td>\n",
       "      <td>0.739130</td>\n",
       "      <td>0.280034</td>\n",
       "      <td>0.219897</td>\n",
       "      <td>0.142336</td>\n",
       "      <td>0.201941</td>\n",
       "      <td>0.229054</td>\n",
       "      <td>0.297573</td>\n",
       "      <td>0.478229</td>\n",
       "      <td>0.107724</td>\n",
       "      <td>1.0</td>\n",
       "      <td>0.0</td>\n",
       "      <td>1.0</td>\n",
       "      <td>0.0</td>\n",
       "    </tr>\n",
       "    <tr>\n",
       "      <th>25</th>\n",
       "      <td>0.850969</td>\n",
       "      <td>0.683544</td>\n",
       "      <td>0.100</td>\n",
       "      <td>0.707692</td>\n",
       "      <td>0.421488</td>\n",
       "      <td>0.666667</td>\n",
       "      <td>0.217391</td>\n",
       "      <td>0.190680</td>\n",
       "      <td>0.174741</td>\n",
       "      <td>0.031022</td>\n",
       "      <td>0.203789</td>\n",
       "      <td>0.119349</td>\n",
       "      <td>0.202427</td>\n",
       "      <td>0.314949</td>\n",
       "      <td>0.018293</td>\n",
       "      <td>1.0</td>\n",
       "      <td>0.0</td>\n",
       "      <td>1.0</td>\n",
       "      <td>0.0</td>\n",
       "    </tr>\n",
       "    <tr>\n",
       "      <th>220</th>\n",
       "      <td>0.421759</td>\n",
       "      <td>0.312236</td>\n",
       "      <td>0.150</td>\n",
       "      <td>0.292308</td>\n",
       "      <td>0.190083</td>\n",
       "      <td>0.247619</td>\n",
       "      <td>0.086957</td>\n",
       "      <td>0.039974</td>\n",
       "      <td>0.036689</td>\n",
       "      <td>0.014599</td>\n",
       "      <td>0.032348</td>\n",
       "      <td>0.019892</td>\n",
       "      <td>0.028097</td>\n",
       "      <td>0.153846</td>\n",
       "      <td>0.002033</td>\n",
       "      <td>0.0</td>\n",
       "      <td>1.0</td>\n",
       "      <td>1.0</td>\n",
       "      <td>0.0</td>\n",
       "    </tr>\n",
       "    <tr>\n",
       "      <th>256</th>\n",
       "      <td>0.281669</td>\n",
       "      <td>0.215190</td>\n",
       "      <td>0.200</td>\n",
       "      <td>0.238462</td>\n",
       "      <td>0.223140</td>\n",
       "      <td>0.161905</td>\n",
       "      <td>0.478261</td>\n",
       "      <td>0.364472</td>\n",
       "      <td>0.310207</td>\n",
       "      <td>0.102190</td>\n",
       "      <td>0.296673</td>\n",
       "      <td>0.268234</td>\n",
       "      <td>0.293103</td>\n",
       "      <td>0.112482</td>\n",
       "      <td>0.006098</td>\n",
       "      <td>1.0</td>\n",
       "      <td>0.0</td>\n",
       "      <td>1.0</td>\n",
       "      <td>0.0</td>\n",
       "    </tr>\n",
       "    <tr>\n",
       "      <th>113</th>\n",
       "      <td>0.831595</td>\n",
       "      <td>0.637131</td>\n",
       "      <td>0.775</td>\n",
       "      <td>0.700000</td>\n",
       "      <td>0.834711</td>\n",
       "      <td>0.609524</td>\n",
       "      <td>0.086957</td>\n",
       "      <td>0.068833</td>\n",
       "      <td>0.060207</td>\n",
       "      <td>0.096715</td>\n",
       "      <td>0.067930</td>\n",
       "      <td>0.104280</td>\n",
       "      <td>0.060664</td>\n",
       "      <td>0.909289</td>\n",
       "      <td>0.225610</td>\n",
       "      <td>0.0</td>\n",
       "      <td>1.0</td>\n",
       "      <td>0.0</td>\n",
       "      <td>1.0</td>\n",
       "    </tr>\n",
       "  </tbody>\n",
       "</table>\n",
       "</div>"
      ],
      "text/plain": [
       "         Hits     HmRun   Runs       RBI     Walks     Years    CAtBat  \\\n",
       "245  0.463487  0.282700  0.325  0.323077  0.239669  0.428571  0.739130   \n",
       "25   0.850969  0.683544  0.100  0.707692  0.421488  0.666667  0.217391   \n",
       "220  0.421759  0.312236  0.150  0.292308  0.190083  0.247619  0.086957   \n",
       "256  0.281669  0.215190  0.200  0.238462  0.223140  0.161905  0.478261   \n",
       "113  0.831595  0.637131  0.775  0.700000  0.834711  0.609524  0.086957   \n",
       "\n",
       "        CHits    CHmRun     CRuns      CRBI    CWalks    League   Assists  \\\n",
       "245  0.280034  0.219897  0.142336  0.201941  0.229054  0.297573  0.478229   \n",
       "25   0.190680  0.174741  0.031022  0.203789  0.119349  0.202427  0.314949   \n",
       "220  0.039974  0.036689  0.014599  0.032348  0.019892  0.028097  0.153846   \n",
       "256  0.364472  0.310207  0.102190  0.296673  0.268234  0.293103  0.112482   \n",
       "113  0.068833  0.060207  0.096715  0.067930  0.104280  0.060664  0.909289   \n",
       "\n",
       "       Errors  Division_A  Division_N  PutOuts_E  PutOuts_W  \n",
       "245  0.107724         1.0         0.0        1.0        0.0  \n",
       "25   0.018293         1.0         0.0        1.0        0.0  \n",
       "220  0.002033         0.0         1.0        1.0        0.0  \n",
       "256  0.006098         1.0         0.0        1.0        0.0  \n",
       "113  0.225610         0.0         1.0        0.0        1.0  "
      ]
     },
     "execution_count": 36,
     "metadata": {},
     "output_type": "execute_result"
    }
   ],
   "source": [
    "from sklearn.model_selection import train_test_split\n",
    "X_train, X_test, y_train, y_test = train_test_split(X ,y, test_size = 0.3 )\n",
    "X_test.head()"
   ]
  },
  {
   "cell_type": "code",
   "execution_count": 37,
   "id": "84d03f34",
   "metadata": {},
   "outputs": [
    {
     "name": "stdout",
     "output_type": "stream",
     "text": [
      "(225, 19)\n",
      "(97, 19)\n",
      "(225,)\n",
      "(97,)\n"
     ]
    }
   ],
   "source": [
    "print(X_train.shape)\n",
    "print(X_test.shape)\n",
    "print(y_train.shape)\n",
    "print(y_test.shape)"
   ]
  },
  {
   "cell_type": "code",
   "execution_count": 38,
   "id": "cafaf5d5",
   "metadata": {},
   "outputs": [
    {
     "data": {
      "text/html": [
       "<style>#sk-container-id-1 {color: black;background-color: white;}#sk-container-id-1 pre{padding: 0;}#sk-container-id-1 div.sk-toggleable {background-color: white;}#sk-container-id-1 label.sk-toggleable__label {cursor: pointer;display: block;width: 100%;margin-bottom: 0;padding: 0.3em;box-sizing: border-box;text-align: center;}#sk-container-id-1 label.sk-toggleable__label-arrow:before {content: \"▸\";float: left;margin-right: 0.25em;color: #696969;}#sk-container-id-1 label.sk-toggleable__label-arrow:hover:before {color: black;}#sk-container-id-1 div.sk-estimator:hover label.sk-toggleable__label-arrow:before {color: black;}#sk-container-id-1 div.sk-toggleable__content {max-height: 0;max-width: 0;overflow: hidden;text-align: left;background-color: #f0f8ff;}#sk-container-id-1 div.sk-toggleable__content pre {margin: 0.2em;color: black;border-radius: 0.25em;background-color: #f0f8ff;}#sk-container-id-1 input.sk-toggleable__control:checked~div.sk-toggleable__content {max-height: 200px;max-width: 100%;overflow: auto;}#sk-container-id-1 input.sk-toggleable__control:checked~label.sk-toggleable__label-arrow:before {content: \"▾\";}#sk-container-id-1 div.sk-estimator input.sk-toggleable__control:checked~label.sk-toggleable__label {background-color: #d4ebff;}#sk-container-id-1 div.sk-label input.sk-toggleable__control:checked~label.sk-toggleable__label {background-color: #d4ebff;}#sk-container-id-1 input.sk-hidden--visually {border: 0;clip: rect(1px 1px 1px 1px);clip: rect(1px, 1px, 1px, 1px);height: 1px;margin: -1px;overflow: hidden;padding: 0;position: absolute;width: 1px;}#sk-container-id-1 div.sk-estimator {font-family: monospace;background-color: #f0f8ff;border: 1px dotted black;border-radius: 0.25em;box-sizing: border-box;margin-bottom: 0.5em;}#sk-container-id-1 div.sk-estimator:hover {background-color: #d4ebff;}#sk-container-id-1 div.sk-parallel-item::after {content: \"\";width: 100%;border-bottom: 1px solid gray;flex-grow: 1;}#sk-container-id-1 div.sk-label:hover label.sk-toggleable__label {background-color: #d4ebff;}#sk-container-id-1 div.sk-serial::before {content: \"\";position: absolute;border-left: 1px solid gray;box-sizing: border-box;top: 0;bottom: 0;left: 50%;z-index: 0;}#sk-container-id-1 div.sk-serial {display: flex;flex-direction: column;align-items: center;background-color: white;padding-right: 0.2em;padding-left: 0.2em;position: relative;}#sk-container-id-1 div.sk-item {position: relative;z-index: 1;}#sk-container-id-1 div.sk-parallel {display: flex;align-items: stretch;justify-content: center;background-color: white;position: relative;}#sk-container-id-1 div.sk-item::before, #sk-container-id-1 div.sk-parallel-item::before {content: \"\";position: absolute;border-left: 1px solid gray;box-sizing: border-box;top: 0;bottom: 0;left: 50%;z-index: -1;}#sk-container-id-1 div.sk-parallel-item {display: flex;flex-direction: column;z-index: 1;position: relative;background-color: white;}#sk-container-id-1 div.sk-parallel-item:first-child::after {align-self: flex-end;width: 50%;}#sk-container-id-1 div.sk-parallel-item:last-child::after {align-self: flex-start;width: 50%;}#sk-container-id-1 div.sk-parallel-item:only-child::after {width: 0;}#sk-container-id-1 div.sk-dashed-wrapped {border: 1px dashed gray;margin: 0 0.4em 0.5em 0.4em;box-sizing: border-box;padding-bottom: 0.4em;background-color: white;}#sk-container-id-1 div.sk-label label {font-family: monospace;font-weight: bold;display: inline-block;line-height: 1.2em;}#sk-container-id-1 div.sk-label-container {text-align: center;}#sk-container-id-1 div.sk-container {/* jupyter's `normalize.less` sets `[hidden] { display: none; }` but bootstrap.min.css set `[hidden] { display: none !important; }` so we also need the `!important` here to be able to override the default hidden behavior on the sphinx rendered scikit-learn.org. See: https://github.com/scikit-learn/scikit-learn/issues/21755 */display: inline-block !important;position: relative;}#sk-container-id-1 div.sk-text-repr-fallback {display: none;}</style><div id=\"sk-container-id-1\" class=\"sk-top-container\"><div class=\"sk-text-repr-fallback\"><pre>LinearRegression()</pre><b>In a Jupyter environment, please rerun this cell to show the HTML representation or trust the notebook. <br />On GitHub, the HTML representation is unable to render, please try loading this page with nbviewer.org.</b></div><div class=\"sk-container\" hidden><div class=\"sk-item\"><div class=\"sk-estimator sk-toggleable\"><input class=\"sk-toggleable__control sk-hidden--visually\" id=\"sk-estimator-id-1\" type=\"checkbox\" checked><label for=\"sk-estimator-id-1\" class=\"sk-toggleable__label sk-toggleable__label-arrow\">LinearRegression</label><div class=\"sk-toggleable__content\"><pre>LinearRegression()</pre></div></div></div></div></div>"
      ],
      "text/plain": [
       "LinearRegression()"
      ]
     },
     "execution_count": 38,
     "metadata": {},
     "output_type": "execute_result"
    }
   ],
   "source": [
    "from sklearn.linear_model import LinearRegression\n",
    "model = LinearRegression()\n",
    "model.fit(X_train, y_train)"
   ]
  },
  {
   "cell_type": "code",
   "execution_count": null,
   "id": "b63c2216",
   "metadata": {},
   "outputs": [],
   "source": [
    "# calculate aic for regression\n",
    "def calculate_aic(n, mse, num_params):\n",
    " aic = n * log(mse) + 2 * num_params\n",
    " return aic"
   ]
  },
  {
   "cell_type": "code",
   "execution_count": null,
   "id": "47d31f8d",
   "metadata": {},
   "outputs": [],
   "source": [
    "num_params = len(model.coef_) + 1\n",
    "print('Number of parameters: %d' % (num_params))\n",
    "# predict the training set\n",
    "yhat = model.predict(X)\n",
    "# calculate the error\n",
    "mse = mean_squared_error(y, yhat)\n",
    "print('MSE: %.3f' % mse)"
   ]
  },
  {
   "cell_type": "code",
   "execution_count": null,
   "id": "08aceb0b",
   "metadata": {},
   "outputs": [],
   "source": [
    "aic = calculate_aic(len(y), mse, num_params)\n",
    "print('AIC: %.3f' % aic)"
   ]
  },
  {
   "cell_type": "code",
   "execution_count": null,
   "id": "f0768c3c",
   "metadata": {},
   "outputs": [],
   "source": [
    "# calculate bic for regression\n",
    "def calculate_bic(n, mse, num_params):\n",
    " bic = n * log(mse) + num_params * log(n)\n",
    " return bic"
   ]
  },
  {
   "cell_type": "code",
   "execution_count": null,
   "id": "ad562a92",
   "metadata": {},
   "outputs": [],
   "source": [
    "# number of parameters\n",
    "num_params = len(model.coef_) + 1\n",
    "print('Number of parameters: %d' % (num_params))\n",
    "# predict the training set\n",
    "yhat = model.predict(X)\n",
    "# calculate the error\n",
    "mse = mean_squared_error(y, yhat)\n",
    "print('MSE: %.3f' % mse)\n",
    "# calculate the bic\n",
    "bic = calculate_bic(len(y), mse, num_params)\n",
    "print('BIC: %.3f' % bic)"
   ]
  },
  {
   "cell_type": "code",
   "execution_count": null,
   "id": "33ebd32d",
   "metadata": {},
   "outputs": [],
   "source": []
  },
  {
   "cell_type": "code",
   "execution_count": null,
   "id": "49d10197",
   "metadata": {},
   "outputs": [],
   "source": [
    "model.predict(X_test).shape"
   ]
  },
  {
   "cell_type": "code",
   "execution_count": null,
   "id": "2a02e5fd",
   "metadata": {},
   "outputs": [],
   "source": [
    "r_sq =model.score(X_train,y_train) \n",
    "print(f\"coefficient of determination: {r_sq}\")"
   ]
  },
  {
   "cell_type": "code",
   "execution_count": null,
   "id": "8a93ded1",
   "metadata": {},
   "outputs": [],
   "source": [
    "print(f\"intercept: {model.intercept_}\")"
   ]
  },
  {
   "cell_type": "code",
   "execution_count": null,
   "id": "97e97c6c",
   "metadata": {},
   "outputs": [],
   "source": [
    "X.shape"
   ]
  },
  {
   "cell_type": "code",
   "execution_count": null,
   "id": "466e6f0e",
   "metadata": {},
   "outputs": [],
   "source": [
    "X_train.shape"
   ]
  },
  {
   "cell_type": "code",
   "execution_count": null,
   "id": "efc7fdab",
   "metadata": {},
   "outputs": [],
   "source": [
    "X_test.shape"
   ]
  },
  {
   "cell_type": "code",
   "execution_count": null,
   "id": "36e5be22",
   "metadata": {},
   "outputs": [],
   "source": [
    "y.shape"
   ]
  },
  {
   "cell_type": "code",
   "execution_count": null,
   "id": "cbd40338",
   "metadata": {},
   "outputs": [],
   "source": [
    "from sklearn import metrics \n",
    "from sklearn.metrics import mean_squared_error\n"
   ]
  },
  {
   "cell_type": "markdown",
   "id": "3984d0d0",
   "metadata": {},
   "source": [
    "## MSE"
   ]
  },
  {
   "cell_type": "code",
   "execution_count": null,
   "id": "d6476ddf",
   "metadata": {},
   "outputs": [],
   "source": [
    "mean_squared_error(y_train,model.predict(X_train))"
   ]
  },
  {
   "cell_type": "code",
   "execution_count": null,
   "id": "2b55c58b",
   "metadata": {},
   "outputs": [],
   "source": [
    "mean_squared_error(y_test,model.predict(X_test))"
   ]
  },
  {
   "cell_type": "code",
   "execution_count": null,
   "id": "062154a9",
   "metadata": {},
   "outputs": [],
   "source": [
    "#from sklearn.model_selection import cross_val_score\n",
    "\n",
    "#def rmse_cv(model):\n",
    "    #rmse= np.sqrt(-cross_val_score(model, X_train, y, scoring=\"neg_mean_squared_error\", cv = 5))\n",
    "   # return(rmse)"
   ]
  },
  {
   "cell_type": "markdown",
   "id": "fd81d4ad",
   "metadata": {},
   "source": [
    "### Cross validation "
   ]
  },
  {
   "cell_type": "code",
   "execution_count": null,
   "id": "8b5aac9b",
   "metadata": {},
   "outputs": [],
   "source": [
    "from sklearn.model_selection import KFold\n",
    "from sklearn.model_selection import cross_val_score"
   ]
  },
  {
   "cell_type": "code",
   "execution_count": null,
   "id": "97561c95",
   "metadata": {},
   "outputs": [],
   "source": [
    "#define predictor and response variables\n",
    "\n",
    "#define cross-validation method to use\n",
    "cv = KFold(n_splits = 10, random_state = 1, shuffle = True)\n",
    "\n",
    "#build multiple linear regression model\n",
    "model = LinearRegression()\n",
    "\n",
    "#use k-fold CV to evaluate model\n",
    "scores1 = cross_val_score(model, X, y, scoring = 'neg_mean_squared_error', cv = cv)\n",
    "\n",
    "scores2 = cross_val_score(model, X, y, scoring = 'r2', cv = cv)\n",
    "\n",
    "#view mean absolute error\n",
    "print(f\"MSE: {np.mean(np.absolute(scores1))}\")\n",
    "print(f\"R2 : {np.mean(np.absolute(scores2))}\")"
   ]
  },
  {
   "cell_type": "markdown",
   "id": "2761e718",
   "metadata": {},
   "source": [
    "## Plot yprediction vs error"
   ]
  },
  {
   "cell_type": "code",
   "execution_count": null,
   "id": "7d1e2feb",
   "metadata": {},
   "outputs": [],
   "source": [
    "#error = y_train - model.predict(X_train)\n",
    "#plt.figure(figsize=(5,4))\n",
    "#plt.scatter(model.predict(X_train),error,color = 'blue')\n",
    "#plt.axhline(y=0,color = 'r' , linestyle = '-')\n",
    "#plt.xlabel('fitted value')\n",
    "#plt.ylabel('error')"
   ]
  },
  {
   "cell_type": "markdown",
   "id": "5841d23d",
   "metadata": {},
   "source": [
    "## Advanced linear regression with statmodel "
   ]
  },
  {
   "cell_type": "code",
   "execution_count": null,
   "id": "a4b6abaf",
   "metadata": {},
   "outputs": [],
   "source": [
    "import statsmodels.api as sm"
   ]
  },
  {
   "cell_type": "code",
   "execution_count": null,
   "id": "b6d7f5e3",
   "metadata": {},
   "outputs": [],
   "source": [
    "X = sm.add_constant(X_train)\n",
    "#X.head()"
   ]
  },
  {
   "cell_type": "code",
   "execution_count": null,
   "id": "4ab35282",
   "metadata": {},
   "outputs": [],
   "source": [
    "#X = sm.add_constant(X_train)\n",
    "#model = sm.OLS(y_train , X)\n",
    "#result = model.fit()"
   ]
  },
  {
   "cell_type": "code",
   "execution_count": null,
   "id": "bbd62724",
   "metadata": {},
   "outputs": [],
   "source": [
    "#print(result.summary())"
   ]
  },
  {
   "cell_type": "code",
   "execution_count": null,
   "id": "b6370ce1",
   "metadata": {},
   "outputs": [],
   "source": [
    "#print(\"Test RMSE:\", \"{:,.2f}\".format(np.sqrt(mean_squared_error(y_test, y_pred))))\n",
    "#print(\"Train RMSE:\", \"{:,.2f}\".format(np.sqrt(mean_squared_error(y_train, y_pred1))), \"\\n\")\n",
    "#print(\"Train MAE:\", \"{:,.2f}\".format(mean_absolute_error(y_train, y_pred1)))\n",
    "#print(\"Test MAE:\", \"{:,.2f}\".format(mean_absolute_error(y_test, y_pred)), \"\\n\")\n",
    "#print(\"Train R^2:\", \"{:,.2f}\".format(r2_score(y_train, y_pred1)))\n",
    "#print(\"Test R^2:\", \"{:,.2f}\".format(r2_score(y_test, y_pred)))"
   ]
  },
  {
   "cell_type": "markdown",
   "id": "88e6be73",
   "metadata": {},
   "source": [
    "# Step 4"
   ]
  },
  {
   "cell_type": "markdown",
   "id": "766e4ebc",
   "metadata": {},
   "source": [
    "## Forward and Backward stepwisd regression "
   ]
  },
  {
   "cell_type": "raw",
   "id": "7a1be668",
   "metadata": {},
   "source": [
    "forward stepwise"
   ]
  },
  {
   "cell_type": "code",
   "execution_count": null,
   "id": "e134d660",
   "metadata": {},
   "outputs": [],
   "source": [
    "from mlxtend.feature_selection import SequentialFeatureSelector as sfs"
   ]
  },
  {
   "cell_type": "code",
   "execution_count": null,
   "id": "995c2a1a",
   "metadata": {},
   "outputs": [],
   "source": [
    "sfs1=sfs(model, k_features=6,forward= True ,verbose=2 ,scoring='neg_mean_squared_error')"
   ]
  },
  {
   "cell_type": "code",
   "execution_count": null,
   "id": "01c64552",
   "metadata": {},
   "outputs": [],
   "source": [
    "sfs1= sfs1.fit(X_train , y_train)"
   ]
  },
  {
   "cell_type": "code",
   "execution_count": null,
   "id": "7a8ac9ca",
   "metadata": {},
   "outputs": [],
   "source": [
    "feat_name = list(sfs1.k_feature_names_)\n",
    "print(feat_name)"
   ]
  },
  {
   "cell_type": "code",
   "execution_count": null,
   "id": "76fd9159",
   "metadata": {},
   "outputs": [],
   "source": [
    "sfs2=sfs(model, k_features=6,forward= True ,verbose=2 ,scoring='r2')\n",
    "sfs2= sfs2.fit(X_train , y_train)"
   ]
  },
  {
   "cell_type": "code",
   "execution_count": null,
   "id": "319ae90c",
   "metadata": {},
   "outputs": [],
   "source": [
    "feat_name = list(sfs2.k_feature_names_)\n",
    "print(feat_name)"
   ]
  },
  {
   "cell_type": "markdown",
   "id": "b0f6113a",
   "metadata": {},
   "source": [
    "## Backward stepvise"
   ]
  },
  {
   "cell_type": "code",
   "execution_count": null,
   "id": "adeb6e27",
   "metadata": {},
   "outputs": [],
   "source": [
    "sfs3=sfs(model, k_features=6,forward= False ,verbose=2 ,scoring='neg_mean_squared_error')\n",
    "sfs3= sfs3.fit(X_train , y_train)"
   ]
  },
  {
   "cell_type": "code",
   "execution_count": null,
   "id": "90cfe0c9",
   "metadata": {},
   "outputs": [],
   "source": [
    "feat_name = list(sfs3.k_feature_names_)\n",
    "print(feat_name)"
   ]
  },
  {
   "cell_type": "markdown",
   "id": "9a8866c8",
   "metadata": {},
   "source": [
    "## Non- linearity of the response-predictor relationship"
   ]
  },
  {
   "cell_type": "code",
   "execution_count": null,
   "id": "9214f5e1",
   "metadata": {},
   "outputs": [],
   "source": [
    "df_mm"
   ]
  },
  {
   "cell_type": "code",
   "execution_count": null,
   "id": "0c2be2d3",
   "metadata": {},
   "outputs": [],
   "source": [
    "data_step1 = df_mm.loc[:,['Salary','Hits','HmRun','Runs','League','Assists','Errors']]\n",
    "data_train , data_test= train_test_split(data_step1, test_size=0.2)"
   ]
  },
  {
   "cell_type": "code",
   "execution_count": null,
   "id": "a1bdb469",
   "metadata": {},
   "outputs": [],
   "source": [
    "X_train = data_train.loc[:,data_train.columns!= 'Salary']\n",
    "y_train = data_train['Salary']"
   ]
  },
  {
   "cell_type": "code",
   "execution_count": null,
   "id": "9c3223f5",
   "metadata": {},
   "outputs": [],
   "source": [
    "X_test = data_test.loc[:,data_train.columns!= 'Salary']\n",
    "y_test = data_test['Salary']"
   ]
  },
  {
   "cell_type": "code",
   "execution_count": null,
   "id": "ffb9a603",
   "metadata": {},
   "outputs": [],
   "source": [
    "model_1 = LinearRegression()\n",
    "model_1.fit(X_train,y_train)"
   ]
  },
  {
   "cell_type": "code",
   "execution_count": null,
   "id": "0035fc4f",
   "metadata": {},
   "outputs": [],
   "source": [
    "r_sq = model_1.score(X_train,y_train)\n",
    "print(f'cofficint of determination : {r_sq}')"
   ]
  },
  {
   "cell_type": "code",
   "execution_count": null,
   "id": "8de9437f",
   "metadata": {},
   "outputs": [],
   "source": [
    "error = y_train - model_1.predict(X_train)\n",
    "plt.figure(figsize=(5,4))\n",
    "plt.scatter(model_1.predict(X_train),error,color = 'blue')\n",
    "plt.axhline(y=0,color = 'r' , linestyle = '-')\n",
    "plt.xlabel('fitted value')\n",
    "plt.ylabel('error')"
   ]
  },
  {
   "cell_type": "markdown",
   "id": "69f89b33",
   "metadata": {},
   "source": [
    "#Bakward"
   ]
  },
  {
   "cell_type": "markdown",
   "id": "8b5fedd6",
   "metadata": {},
   "source": [
    "1- Mellow’s Cp"
   ]
  },
  {
   "cell_type": "raw",
   "id": "eee0a483",
   "metadata": {},
   "source": [
    "Adjusted Train Error\n",
    "The most common adjusted train error estimates of the test error are Cp, AIC, BIC, and\n",
    "Adjusted R2 are briefly discussed below."
   ]
  },
  {
   "cell_type": "markdown",
   "id": "eee8076e",
   "metadata": {},
   "source": [
    "where RSS is an regression sum of square associated with the fitted model. Essentially,\n",
    "the Cp statistic adds a penalty of   Cp = 1/n(RSS + 2dσεˆ2)\n",
    "\n",
    "to the training RSS in order to adjust for the fact\n",
    "that the training error tends to underestimate the test error [17].\n",
    "Clearly, the penalty increases as the number of predictors in the model increases; this\n",
    "is intended to adjust for the corresponding decrease in training RSS. As a consequence,\n",
    "the Cp statistic tends to take on a small value for models with a low test error, so when\n",
    "determining which of a set of models is best, we choose the model with the lowest Cp value\n"
   ]
  },
  {
   "cell_type": "markdown",
   "id": "dff80872",
   "metadata": {},
   "source": [
    " 2- Akaike information criterion"
   ]
  },
  {
   "cell_type": "raw",
   "id": "6d81ca0a",
   "metadata": {},
   "source": [
    " Akaike information criterion\n",
    "Akaike (1974)[34] derived a criterion from information theories, known as Akaike informa\u0002tion criterion (AIC). The AIC is a similar but more generally applicable estimate of Err\n",
    "when a log-likelihood loss function is used. In the regression setting, the standard linear\n",
    "model\n",
    "Y = β0 + β1X1 + · · · + βpXp + e\n",
    "AIC = 1/nσˆ2(RSS + 2dσˆ2)\n",
    "\n",
    "with Gaussian errors, maximum likelihood and least squares are the same thing. In this\n",
    "case AIC is given by [17]\n"
   ]
  },
  {
   "cell_type": "markdown",
   "id": "59cf72ea",
   "metadata": {},
   "source": [
    "3- Bayesian information criterion (BIC)"
   ]
  },
  {
   "cell_type": "raw",
   "id": "7b5c0a09",
   "metadata": {},
   "source": [
    "BIC is derived from a Bayesian point of view by Schwarz (1978) [35] , but looks similar\n",
    "to Cp (and AIC) as well. For the least squares model with d predictors, the BIC is, up to\n",
    "irrelevant constants, given by    BIC = 1/n(RSS + log(n)dσˆ2)\n"
   ]
  },
  {
   "cell_type": "markdown",
   "id": "c2814d9a",
   "metadata": {},
   "source": [
    "4- Adjusted R2"
   ]
  },
  {
   "cell_type": "raw",
   "id": "dedde27e",
   "metadata": {},
   "source": [
    ")The adjusted R2\n",
    "statistic is another popular approach for selecting among a set of models\n",
    "that contain different numbers of variables. The coefficient of determination R2\n",
    "is defined\n",
    "as 1−RSS/TSS, where TSS = P(yi − y¯)\n",
    "2\n",
    "is the total sum of squares for the response. since\n",
    "RSS always decreases as more variables are added to the model, the R2 always increases\n",
    "as more variables are added. For a least squares model with d variables, the adjusted R2\n",
    "statistic is calculated as \n",
    "\n",
    "Adjusted R^2 = ((1 −RSS)/ (n − d − 1))/(TSS /(n − 1))"
   ]
  },
  {
   "cell_type": "code",
   "execution_count": 40,
   "id": "b9a200da",
   "metadata": {},
   "outputs": [],
   "source": [
    "from statsmodels.stats.outliers_influence import variance_inflation_factor"
   ]
  },
  {
   "cell_type": "code",
   "execution_count": null,
   "id": "4735636a",
   "metadata": {},
   "outputs": [],
   "source": [
    "vif = pd.DataFrame()\n",
    "vif[\"VIF Factor\"] = [variance_inflation_factor(X.values, i) for i in range(X.shape[1])]\n",
    "vif[\"features\"] = X.columns\n",
    "vif.round(1)"
   ]
  },
  {
   "cell_type": "code",
   "execution_count": null,
   "id": "1f430382",
   "metadata": {},
   "outputs": [],
   "source": []
  }
 ],
 "metadata": {
  "kernelspec": {
   "display_name": "Python 3 (ipykernel)",
   "language": "python",
   "name": "python3"
  },
  "language_info": {
   "codemirror_mode": {
    "name": "ipython",
    "version": 3
   },
   "file_extension": ".py",
   "mimetype": "text/x-python",
   "name": "python",
   "nbconvert_exporter": "python",
   "pygments_lexer": "ipython3",
   "version": "3.9.7"
  },
  "latex_envs": {
   "LaTeX_envs_menu_present": true,
   "autoclose": false,
   "autocomplete": true,
   "bibliofile": "biblio.bib",
   "cite_by": "apalike",
   "current_citInitial": 1,
   "eqLabelWithNumbers": true,
   "eqNumInitial": 1,
   "hotkeys": {
    "equation": "Ctrl-E",
    "itemize": "Ctrl-I"
   },
   "labels_anchors": false,
   "latex_user_defs": false,
   "report_style_numbering": false,
   "user_envs_cfg": false
  },
  "nbTranslate": {
   "displayLangs": [
    "*"
   ],
   "hotkey": "alt-t",
   "langInMainMenu": true,
   "sourceLang": "en",
   "targetLang": "fr",
   "useGoogleTranslate": true
  },
  "toc": {
   "base_numbering": 1,
   "nav_menu": {},
   "number_sections": true,
   "sideBar": true,
   "skip_h1_title": false,
   "title_cell": "Table of Contents",
   "title_sidebar": "Contents",
   "toc_cell": false,
   "toc_position": {},
   "toc_section_display": true,
   "toc_window_display": false
  }
 },
 "nbformat": 4,
 "nbformat_minor": 5
}
